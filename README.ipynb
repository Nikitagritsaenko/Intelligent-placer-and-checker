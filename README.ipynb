{
 "cells": [
  {
   "cell_type": "markdown",
   "id": "4e400897-a00a-4476-b163-228e3e6e0b70",
   "metadata": {},
   "source": [
    "# Intelligent-placer-and-checker\n",
    "\n",
    "## Постановка задачи\n",
    "\n",
    "Требуется создать “Intelligent Placer”: по поданной на вход фотографии нескольких предметов на светлой горизонтальной поверхности и многоугольнику необходимо понимать, можно ли расположить одновременно все эти предметы на плоскости так, чтобы они поместились в заданный многоугольник\n",
    "\n",
    "### Подробная описание\n",
    "\n",
    "* [Intelligent Placer](https://docs.google.com/document/d/1o0lawEvLgmh9VrA5fUlOHFvo5JKxR4NThCFobmrKz60/edit#)\n",
    "* [Intelligent Cheker](https://docs.google.com/document/d/1Tmn7BLnHXiAsdCpB_GQVDqUx3AoGEdfOoTyn3Eg3P7A/edit#heading=h.wh4ex1kspujz)"
   ]
  },
  {
   "cell_type": "markdown",
   "id": "687aa6d8-a74d-4679-88e5-6596d04f215d",
   "metadata": {},
   "source": [
    "## Данные\n",
    "[Ссылка на данные](https://github.com/Nikitagritsaenko/Intelligent-placer-and-checker/tree/develop/intelligent_placer_lib/ML2021Dataset)\n",
    "\n",
    "Каждая фотография содержит ровно один предмет на фоне белого листа А4.\n",
    "\n",
    "Требования к этим фотографиям\n",
    "\n",
    "- Белый лист занимает не менее 95% места на фотографии\n",
    "- все края и углы листа видны на фотографии\n",
    "- На фото только 1 объект\n",
    "- Все объекты выпуклые\n",
    "- Предмет и край листа А4 не пересекаются\n",
    "- Источник света должен быть строго сверху над областью фотографирования\n",
    "- Фотографировать нужно строго вертикально (перпендикулярно листу бумаги) на расстоянии не менее 50 см от листа бумаги, не допускается наличие проекций предметов // Проекционного искажения предметов\n",
    "- Рекомендуется фотографировать со вспышкой для избежание наличия ярко выраженный теней на листе бумаги\n",
    "- Нет размытий, разрешенеи не менее 96 dpi\n",
    "- Отсутсвие шума на изображении\n",
    "\n",
    "**Пример фотографий**\n",
    "\n",
    "<img src=\"intelligent_placer_lib/ML2021Dataset/2.jpg\" width=\"200\" height=\"200\" /> <img src=\"intelligent_placer_lib/ML2021Dataset/17.jpg\" width=\"200\" height=\"200\" /> <img src=\"intelligent_placer_lib/ML2021Dataset/25.jpg\" width=\"200\" height=\"200\" />"
   ]
  },
  {
   "cell_type": "markdown",
   "id": "f9372df9-1a9d-4d3b-8716-c96c13b79259",
   "metadata": {},
   "source": [
    "## Входные данные\n",
    "На вход Plaser\\`а подаётся фотография, на которой изображено несколько предметов и многоугольник, заданный набором координат (в миллиметрах) обходом против часовой стрелки.\n",
    "\n",
    "Требования к фотографиям\n",
    "- Вышеперечисленные критерии за исключением требования, что нужно фотографировать на листе А4. Подойдет светлый однотонный фон\n",
    "- Предметы не пересекаются между собой\n",
    "- Каждый предмет целиком видно на фото\n",
    "- На фото есть предметы только из тех 10, которые указаны в датасете для Placer (см. выше)\n",
    "\n",
    "Требования к многоугольнику\n",
    "- Точки задаются в порядке обхода против часовой стрелки\n",
    "\n",
    "**Пример входных фотографий**\n",
    "\n",
    "[Ссылка на примеры](https://github.com/Nikitagritsaenko/Intelligent-placer-and-checker/tree/develop/PlacerDataset)\n",
    "\n",
    "<img src=\"PlacerDataset/1.jpg\" width=\"200\" height=\"200\" /> <img src=\"PlacerDataset/2.jpg\" width=\"200\" height=\"200\" /> <img src=\"PlacerDataset/4.jpg\" width=\"200\" height=\"200\" />"
   ]
  },
  {
   "cell_type": "markdown",
   "id": "46334df6-fe9f-46ee-ac68-602b9aea54ee",
   "metadata": {},
   "source": [
    "## Результаты работы алгоритма\n",
    "\n",
    "По результатам обработки фотографии Plaser даёт ответ:\n",
    "- True - Набор предметов можно разместить в многоугольнике\n",
    "- False - Plaser\\`у не удалось разместить без пересечений предметы внутри многоугольника\n",
    "\n",
    "Если установлен дополнительный параметр-флаг `verbose`, то при положительном ответе (True) будет выведено изображение, с полученным размещением предметов:\n",
    "\n",
    "**Примеры размещения**\n",
    "\n",
    "<img src=\"solution_2.png\" width=\"400\" height=\"400\" /> <img src=\"solution_5.png\" width=\"400\" height=\"400\" /> \n",
    "\n",
    "## Файл настроек для Intelligent Cheker\n",
    "\n",
    "Настройки параметров для Cheker\\`а находятся в файле [default_config.yaml](https://github.com/Nikitagritsaenko/Intelligent-placer-and-checker/blob/develop/intelligent_placer_lib/default_config.yaml)\n",
    "\n",
    "Файл составлен согласно [этому интерфейсу](https://github.com/PrimatElite/ml-labs)"
   ]
  },
  {
   "cell_type": "markdown",
   "id": "c6de3cf0-e1e2-4ca5-acb9-28af847ecec3",
   "metadata": {},
   "source": [
    "## Интерфейс взаимодействия\n",
    "\n",
    "Все необходимые для использования Plaser файлы находятся в дирректории `intelligent_placer_lib`"
   ]
  },
  {
   "cell_type": "markdown",
   "id": "4308e76c-834a-4b77-8e30-df3c3b96e65c",
   "metadata": {},
   "source": [
    "в файле расположен метод взаимодействия - `check_image`.\n",
    "```python\n",
    "def check_image(path, polygon=None, verbose=False)\n",
    "```\n",
    "`path` - путь к обрабатываемому изображению \n",
    "\n",
    "`polygon` - точки многоугольника, заданные в порядке обхода против часовой стрелки\n",
    "\n",
    "`verbose` - (def. False) флаг, отвечающий за вывод подробной информации и процессе обработки\n",
    "\n",
    "return value: (bool) - смог ли Plaser разместить предметы без пересечения внутри многоугольника\n",
    "\n",
    "### Пример использования\n",
    "```python\n",
    "check_image (path=\"PlacerDataset/1.jpg\",\n",
    "             polygon=[[40, 0], [30, 90], [90, 125], [155, 140], [120, -40]],\n",
    "             verbose=True)\n",
    "```"
   ]
  },
  {
   "cell_type": "code",
   "execution_count": null,
   "id": "b519fad0-60bd-4ada-8bad-f423f9ab52d4",
   "metadata": {},
   "outputs": [],
   "source": []
  }
 ],
 "metadata": {
  "kernelspec": {
   "display_name": "Python 3",
   "language": "python",
   "name": "python3"
  },
  "language_info": {
   "codemirror_mode": {
    "name": "ipython",
    "version": 3
   },
   "file_extension": ".py",
   "mimetype": "text/x-python",
   "name": "python",
   "nbconvert_exporter": "python",
   "pygments_lexer": "ipython3",
   "version": "3.8.8"
  }
 },
 "nbformat": 4,
 "nbformat_minor": 5
}
